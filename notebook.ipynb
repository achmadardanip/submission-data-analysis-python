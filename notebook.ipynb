{
 "cells": [
  {
   "cell_type": "code",
   "execution_count": null,
   "id": "b1c1e1f1",
   "metadata": {},
   "outputs": [],
   "source": [
    "import pandas as pd\n",
    "\n",
    "# Load data from CSV files\n",
    "main_data = pd.read_csv('dashboard/main_data.csv')\n",
    "data_1 = pd.read_csv('data/data_1.csv')\n",
    "data_2 = pd.read_csv('data/data_2.csv')\n",
    "\n",
    "# Display the first few rows of each dataset\n",
    "print('Main Data:')\n",
    "print(main_data.head())\n",
    "\n",
    "print('\\nData 1:')\n",
    "print(data_1.head())\n",
    "\n",
    "print('\\nData 2:')\n",
    "print(data_2.head())\n"
   ]
  }
 ],
 "metadata": {
  "kernelspec": {
   "display_name": "Python 3",
   "language": "python",
   "name": "python3"
  },
  "language_info": {
   "codemirror_mode": {
    "name": "ipython",
    "version": 3
   },
   "file_extension": ".py",
   "mimetype": "text/x-python",
   "name": "python",
   "nbconvert_exporter": "python",
   "pygments_lexer": "ipython3",
   "version": "3.8.5"
  }
 },
 "nbformat": 4,
 "nbformat_minor": 5
}
